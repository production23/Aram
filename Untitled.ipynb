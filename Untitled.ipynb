{
 "cells": [
  {
   "cell_type": "code",
   "execution_count": null,
   "id": "d5f0cf3a-3805-4e11-af34-197e75496a1a",
   "metadata": {},
   "outputs": [],
   "source": [
    "# Dependencies and Setup\n",
    "import pandas as pd\n",
    "from pathlib import Path\n",
    "import scipy.stats as st\n",
    "import matplotlib.pyplot as plt\n",
    "\n",
    "# yearly files\n",
    "vehicle_data_2020 = ('vehicle_type_by_zipcode_2020.csv')\n",
    "vehicle_data_2021 = ('vehicle_type_by_zipcode_2021.csv')\n",
    "vehicle_data_2022 = ('vehicle_type_by_zipcode_2022.csv')\n",
    "\n",
    "#census dara\n",
    "census_data = ('census_data.csv')\n",
    "\n",
    "# reading each file\n",
    "data_2020 = pd.read_csv(vehicle_data_2020)\n",
    "data_2021 = pd.read_csv(vehicle_data_2021)\n",
    "data_2022 = pd.read_csv(vehicle_data_2022)\n",
    "county_data = pd.read_csv(census_data)\n",
    "\n",
    "# adding a year column\n",
    "data_2020['Year'] = 2020\n",
    "data_2021['Year'] = 2021\n",
    "data_2022['Year'] = 2022\n",
    "\n",
    "# Concatenate the DataFrames\n",
    "merged_data = pd.concat([data_2020, data_2021, data_2022], ignore_index=True)\n",
    "\n",
    "# resetting the index of the DataFrame\n",
    "merged_data.reset_index(drop=True, inplace=True)\n",
    "\n",
    "# Display the merged DataFrame\n",
    "print(merged_data)\n",
    "\n",
    "\n",
    "merged_data.head()"
   ]
  }
 ],
 "metadata": {
  "kernelspec": {
   "display_name": "Python 3 (ipykernel)",
   "language": "python",
   "name": "python3"
  },
  "language_info": {
   "codemirror_mode": {
    "name": "ipython",
    "version": 3
   },
   "file_extension": ".py",
   "mimetype": "text/x-python",
   "name": "python",
   "nbconvert_exporter": "python",
   "pygments_lexer": "ipython3",
   "version": "3.11.5"
  }
 },
 "nbformat": 4,
 "nbformat_minor": 5
}
