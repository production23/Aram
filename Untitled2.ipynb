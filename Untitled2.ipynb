{
 "cells": [
  {
   "cell_type": "code",
   "execution_count": null,
   "id": "41b37020-b74a-4e3b-be08-8c97b6ff635f",
   "metadata": {},
   "outputs": [],
   "source": [
    "# Dependencies and Setup\n",
    "import pandas as pd\n",
    "from pathlib import Path\n",
    "import scipy.stats as st\n",
    "import matplotlib.pyplot as plt\n",
    "\n",
    "# yearly files\n",
    "vehicle_data_2020 = ('vehicle_type_by_zipcode_2020.csv')\n",
    "vehicle_data_2021 = ('vehicle_type_by_zipcode_2021.csv')\n",
    "vehicle_data_2022 = ('vehicle_type_by_zipcode_2022.csv')\n",
    "\n",
    "#census dara\n",
    "census_data = ('census_data.csv')\n",
    "\n",
    "# reading each file\n",
    "data_2020 = pd.read_csv(vehicle_data_2020)\n",
    "data_2021 = pd.read_csv(vehicle_data_2021)\n",
    "data_2022 = pd.read_csv(vehicle_data_2022)\n",
    "county_data = pd.read_csv(census_data)\n",
    "\n",
    "# adding a year column\n",
    "data_2020['Year'] = 2020\n",
    "data_2021['Year'] = 2021\n",
    "data_2022['Year'] = 2022\n",
    "\n",
    "# Concatenate the DataFrames\n",
    "merged_data = pd.concat([data_2020, data_2021, data_2022], ignore_index=True)\n",
    "\n",
    "# resetting the index of the DataFrame\n",
    "merged_data.reset_index(drop=True, inplace=True)\n",
    "\n",
    "# Display the merged DataFrame\n",
    "print(merged_data)\n",
    "\n",
    "\n",
    "merged_data.head()"
   ]
  },
  {
   "cell_type": "code",
   "execution_count": null,
   "id": "2d142e64-e173-479f-a6df-04e9bc8abd90",
   "metadata": {},
   "outputs": [],
   "source": [
    "records_count = len(merged_data)\n",
    "records_count"
   ]
  },
  {
   "cell_type": "code",
   "execution_count": null,
   "id": "452d4337-ba93-4263-9e68-5c1289f687f1",
   "metadata": {},
   "outputs": [],
   "source": [
    "fuel_types = merged_data['Fuel'].unique()\n",
    "\n",
    "# Print the unique fuel types in this set\n",
    "print(\"Fuel types:\", fuel_types)"
   ]
  },
  {
   "cell_type": "code",
   "execution_count": null,
   "id": "722b9461-6465-4171-9cc7-c7e1a4f781a0",
   "metadata": {},
   "outputs": [],
   "source": [
    "# Dropping the columns for model year, make, and duty\n",
    "merged_data.drop(['Model Year', 'Make', 'Duty'], axis=1, inplace=True)\n",
    "merged_data.rename(columns={'Zip Code': 'Zipcode'}, inplace=True)\n",
    "merged_data.head()"
   ]
  },
  {
   "cell_type": "code",
   "execution_count": null,
   "id": "2dfbddd9-b1d4-4e66-8c12-b02e920e82eb",
   "metadata": {},
   "outputs": [],
   "source": [
    "# saving the merged data to a new csv, after the dropped fields\n",
    "merged_data.to_csv('merged_data_modified.csv', index=False)"
   ]
  },
  {
   "cell_type": "code",
   "execution_count": null,
   "id": "2ef5e458-5c94-42d1-b6ec-a9d7f3194cf8",
   "metadata": {},
   "outputs": [],
   "source": [
    "# merging the vehicle data to the zip and county data \n",
    "census_data = ('census_data.csv')\n",
    "vehicle_data_updt = ('merged_data_modified.csv')\n",
    "\n",
    "# reading each file\n",
    "county_data = pd.read_csv(census_data)\n",
    "all_vehicle_data = pd.read_csv(vehicle_data_updt)"
   ]
  },
  {
   "cell_type": "code",
   "execution_count": null,
   "id": "9eb65112-0b3e-42c9-a8c0-8843838e5ccf",
   "metadata": {},
   "outputs": [],
   "source": [
    "county_data.drop(['Unnamed: 0', 'Population', 'Household Income', 'state_fips', 'state', 'state_abbr', 'city', 'Year'], axis=1, inplace=True)\n",
    "county_data.head()"
   ]
  },
  {
   "cell_type": "code",
   "execution_count": null,
   "id": "8638e453-b124-411b-bdb7-1c482246a752",
   "metadata": {},
   "outputs": [],
   "source": [
    "# Merge the dataframes on the 'Zip Code' column\n",
    "merged_data_all = pd.merge(all_vehicle_data, county_data, on='Zipcode', how='left')\n",
    "\n",
    "# Display the merged dataframe\n",
    "merged_data_all.head()\n",
    "merged_data_all"
   ]
  },
  {
   "cell_type": "code",
   "execution_count": null,
   "id": "205f8a82-5c18-4a44-85c4-7187675a258e",
   "metadata": {},
   "outputs": [],
   "source": [
    "# ****NEED TO CORRECT THIS FOR THE DATES - UNSURE WHY IT CHANGES ALL TO 2022 WHEN I ADD THE YEAR OR DATE****\n",
    "\n",
    "total_vehicles_per_fuel_type = merged_data_all.groupby(['Zipcode', 'Fuel', 'county', 'Year'])['Vehicles'].sum().reset_index()\n",
    "\n",
    "total_vehicles_per_fuel_type"
   ]
  },
  {
   "cell_type": "code",
   "execution_count": null,
   "id": "71ac1ea3-f7ff-4131-998c-ae7658e6384b",
   "metadata": {},
   "outputs": [],
   "source": [
    "battery_electric_by_county = total_vehicles_per_fuel_type[total_vehicles_per_fuel_type['Fuel'] == 'Battery Electric']\n",
    "battery_electric_by_county"
   ]
  }
 ],
 "metadata": {
  "kernelspec": {
   "display_name": "Python 3 (ipykernel)",
   "language": "python",
   "name": "python3"
  },
  "language_info": {
   "codemirror_mode": {
    "name": "ipython",
    "version": 3
   },
   "file_extension": ".py",
   "mimetype": "text/x-python",
   "name": "python",
   "nbconvert_exporter": "python",
   "pygments_lexer": "ipython3",
   "version": "3.11.5"
  }
 },
 "nbformat": 4,
 "nbformat_minor": 5
}
